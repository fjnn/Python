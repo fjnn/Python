{
 "cells": [
  {
   "cell_type": "markdown",
   "id": "0f91c66a",
   "metadata": {},
   "source": [
    "# Repetition from week 1"
   ]
  },
  {
   "cell_type": "code",
   "execution_count": 1,
   "id": "a0add407",
   "metadata": {},
   "outputs": [
    {
     "name": "stdout",
     "output_type": "stream",
     "text": [
      "<class 'str'>\n",
      "0.30000000000000004\n",
      "2\n"
     ]
    }
   ],
   "source": [
    "my_integer:int = 5\n",
    "my_float = 3.14\n",
    "my_string = \"gizem\"\n",
    "\n",
    "print(type(my_string))\n",
    "print(0.1+0.1+0.1)\n",
    "\n",
    "a = 5\n",
    "b = 3\n",
    "c = 5%3\n",
    "print(c)"
   ]
  },
  {
   "cell_type": "markdown",
   "id": "df8b5f09",
   "metadata": {},
   "source": [
    "# Week 2: Functions"
   ]
  },
  {
   "cell_type": "markdown",
   "id": "ca61c63f",
   "metadata": {},
   "source": [
    "Built-in functions"
   ]
  },
  {
   "cell_type": "code",
   "execution_count": 15,
   "id": "41aa02af",
   "metadata": {},
   "outputs": [
    {
     "name": "stdout",
     "output_type": "stream",
     "text": [
      "Hello\n"
     ]
    },
    {
     "data": {
      "text/plain": [
       "3.143"
      ]
     },
     "execution_count": 15,
     "metadata": {},
     "output_type": "execute_result"
    }
   ],
   "source": [
    "print(\"Hello\")\n",
    "type(my_integer)\n",
    "\n",
    "a = -5\n",
    "abs(a)\n",
    "\n",
    "b = 3\n",
    "pow(a,b)\n",
    "\n",
    "abs(pow(a,b))\n",
    "pow(abs(a),b)\n",
    "\n",
    "round(3.1432984620365, 3)"
   ]
  },
  {
   "cell_type": "code",
   "execution_count": null,
   "id": "51bc0fc7",
   "metadata": {},
   "outputs": [
    {
     "data": {
      "text/plain": [
       "'g'"
      ]
     },
     "execution_count": 16,
     "metadata": {},
     "output_type": "execute_result"
    }
   ],
   "source": [
    "user_name = input(\"What is your name? \")\n",
    "print(user_name)"
   ]
  },
  {
   "cell_type": "markdown",
   "id": "4a1818d0",
   "metadata": {},
   "source": [
    "Make a simple calculator that asks 2 numbers to the user and prints the multiplication of these two numbers."
   ]
  },
  {
   "cell_type": "code",
   "execution_count": 17,
   "id": "4b6c8d07",
   "metadata": {},
   "outputs": [
    {
     "name": "stdout",
     "output_type": "stream",
     "text": [
      "15\n"
     ]
    }
   ],
   "source": [
    "first_number = int(input(\"First number: \"))\n",
    "second_number = int(input(\"Second number: \"))\n",
    "\n",
    "print(first_number * second_number)"
   ]
  },
  {
   "cell_type": "markdown",
   "id": "efea3fb6",
   "metadata": {},
   "source": [
    "built-in type conversion functions"
   ]
  },
  {
   "cell_type": "code",
   "execution_count": null,
   "id": "e14e7f7a",
   "metadata": {},
   "outputs": [],
   "source": [
    "int()\n",
    "float()\n",
    "str()"
   ]
  },
  {
   "cell_type": "markdown",
   "id": "a40817c0",
   "metadata": {},
   "source": [
    "# Custom functions"
   ]
  },
  {
   "cell_type": "code",
   "execution_count": null,
   "id": "78e1e9a8",
   "metadata": {},
   "outputs": [
    {
     "name": "stdout",
     "output_type": "stream",
     "text": [
      "15\n"
     ]
    }
   ],
   "source": [
    "# Definiton of function\n",
    "def f(x):\n",
    "    result = 2*x+5\n",
    "    return result\n",
    "\n",
    "# Call of the function\n",
    "print(f(5))"
   ]
  },
  {
   "cell_type": "code",
   "execution_count": null,
   "id": "674eef3a",
   "metadata": {},
   "outputs": [
    {
     "name": "stdout",
     "output_type": "stream",
     "text": [
      "something\n",
      "result:  11\n"
     ]
    }
   ],
   "source": [
    "print(\"something\")\n",
    "x = 3\n",
    "func_result = f(x)\n",
    "print(\"result: \", func_result)"
   ]
  },
  {
   "cell_type": "markdown",
   "id": "3584edee",
   "metadata": {},
   "source": [
    "# Exercise \n",
    "Imagine that you are designing an automatic answer system for a\n",
    "small company. A part of the task is to get a selection from the user,\n",
    "and confirm the selected number.\n",
    "1. Make a custom function that gets an integer\n",
    "number and prints it for confirmation:\n",
    "«The number you entered is X»\n",
    "2. Ask the user to enter a number\n",
    "(Hint: use input())\n",
    "3. Call your custom function and confirm the\n",
    "entered number.\n"
   ]
  },
  {
   "cell_type": "code",
   "execution_count": null,
   "id": "8749463f",
   "metadata": {},
   "outputs": [
    {
     "name": "stdout",
     "output_type": "stream",
     "text": [
      "You entered:  5\n"
     ]
    }
   ],
   "source": [
    "def user_confirmation(X):\n",
    "    print(\"You entered: \", X)\n",
    "\n",
    "user_input = input(\"Give me a number: \")\n",
    "user_confirmation(user_input)"
   ]
  },
  {
   "cell_type": "markdown",
   "id": "6f954764",
   "metadata": {},
   "source": [
    "Make a function called \"my_calculation_func\" which takes 2 numbers and prints them like this:\n",
    "\n",
    "\"Sum: XX, Sub:YY, Mult: ZZ, Div: WW\""
   ]
  },
  {
   "cell_type": "code",
   "execution_count": null,
   "id": "8737039c",
   "metadata": {},
   "outputs": [
    {
     "name": "stdout",
     "output_type": "stream",
     "text": [
      "Sum: 8 \n",
      "Sub: 2 \n",
      "Mult:\t 15 \n",
      "Div: 1.6666666666666667\n",
      "Sum: 8, Sub: 2\n"
     ]
    }
   ],
   "source": [
    "def my_calculation_func(x, y):\n",
    "    sum = x+y\n",
    "    sub = x-y\n",
    "    mult = x*y\n",
    "    div = x/y\n",
    "    print(\"Sum:\", sum, \"\\nSub:\", sub, \"\\nMult:\", mult, \"\\nDiv:\", div)\n",
    "    # print(f\"Sum: {sum}, Sub: {sub}\") ## Den kjem seinare\n",
    "\n",
    "first = int(input(\"Give me the first number: \"))\n",
    "second = int(input(\"Give me the second number: \"))\n",
    "my_calculation_func(first, second)"
   ]
  },
  {
   "cell_type": "markdown",
   "id": "aaef2490",
   "metadata": {},
   "source": [
    "# Week 3: If Else\n",
    "(Conditionals)"
   ]
  },
  {
   "cell_type": "code",
   "execution_count": 32,
   "id": "ec56703f",
   "metadata": {},
   "outputs": [
    {
     "name": "stdout",
     "output_type": "stream",
     "text": [
      "Positive\n"
     ]
    }
   ],
   "source": [
    "number = 0\n",
    "\n",
    "if number < 0:\n",
    "    print(\"Negative\")\n",
    "else:\n",
    "    print(\"Positive\")"
   ]
  },
  {
   "cell_type": "markdown",
   "id": "156c907d",
   "metadata": {},
   "source": [
    "Several options we use \"elif\""
   ]
  },
  {
   "cell_type": "code",
   "execution_count": null,
   "id": "b7e86d4d",
   "metadata": {},
   "outputs": [],
   "source": [
    "number = 0\n",
    "\n",
    "if number < 0:\n",
    "    print(\"Negative\")\n",
    "elif number == 0:\n",
    "    print(\"Zero\")\n",
    "else:\n",
    "    print(\"Positive\")"
   ]
  },
  {
   "cell_type": "markdown",
   "id": "779c87b7",
   "metadata": {},
   "source": [
    "< smaller\n",
    "> greater\n",
    "<= smaller or equal to\n",
    ">= greater or equal to\n",
    "!= not equal\n",
    "== equal"
   ]
  },
  {
   "cell_type": "markdown",
   "id": "47fbfc0a",
   "metadata": {},
   "source": [
    "Use a variable \"number\" and check if it is dividable by 2."
   ]
  },
  {
   "cell_type": "code",
   "execution_count": 33,
   "id": "dce2e15a",
   "metadata": {},
   "outputs": [
    {
     "name": "stdout",
     "output_type": "stream",
     "text": [
      "No, not dividable\n"
     ]
    }
   ],
   "source": [
    "number = 5\n",
    "\n",
    "if (number%2 == 0):\n",
    "    print(\"Yes, dividable\")\n",
    "else:\n",
    "    print(\"No, not dividable\")"
   ]
  },
  {
   "cell_type": "markdown",
   "id": "b034d6b4",
   "metadata": {},
   "source": [
    "Modify the user_confirmation function. Make a new variable called password, and assign a value. If the user enters the password right, print \"correct\", otherwise print \"no access\"."
   ]
  },
  {
   "cell_type": "code",
   "execution_count": 36,
   "id": "698f37fb",
   "metadata": {},
   "outputs": [
    {
     "name": "stdout",
     "output_type": "stream",
     "text": [
      "correct\n"
     ]
    }
   ],
   "source": [
    "def user_confirmation(user_input):\n",
    "    password = \"gizem\"\n",
    "    if user_input == password:\n",
    "        print(\"correct\")\n",
    "    else:\n",
    "        print(\"no access\")\n",
    "\n",
    "user_input = input(\"Give me the password: \")\n",
    "user_confirmation(user_input)"
   ]
  },
  {
   "cell_type": "markdown",
   "id": "b2c81c91",
   "metadata": {},
   "source": [
    "DO NOT PRINT IN THE FUNCTION (extra challenge)"
   ]
  },
  {
   "cell_type": "code",
   "execution_count": 38,
   "id": "7406e88a",
   "metadata": {},
   "outputs": [
    {
     "name": "stdout",
     "output_type": "stream",
     "text": [
      "False\n"
     ]
    }
   ],
   "source": [
    "def user_confirmation(user_input):\n",
    "    password = \"gizem\"\n",
    "    if user_input == password:\n",
    "        return True\n",
    "    else:\n",
    "        return False\n",
    "\n",
    "user_input = input(\"Give me the password: \")\n",
    "print(user_confirmation(user_input))"
   ]
  },
  {
   "cell_type": "markdown",
   "id": "58e8e482",
   "metadata": {},
   "source": [
    "modify the result print:"
   ]
  },
  {
   "cell_type": "code",
   "execution_count": 39,
   "id": "84ae8cab",
   "metadata": {},
   "outputs": [
    {
     "name": "stdout",
     "output_type": "stream",
     "text": [
      "Correct\n"
     ]
    }
   ],
   "source": [
    "user_input = input(\"Give me the password: \")\n",
    "if user_confirmation(user_input) == True:\n",
    "    print(\"Correct\")\n",
    "else:\n",
    "    print(\"No acces\")"
   ]
  },
  {
   "cell_type": "markdown",
   "id": "9b3a7e0a",
   "metadata": {},
   "source": [
    "In the user_confirmation function, return an integer or string than True/False"
   ]
  },
  {
   "cell_type": "code",
   "execution_count": 40,
   "id": "94b4789e",
   "metadata": {},
   "outputs": [
    {
     "name": "stdout",
     "output_type": "stream",
     "text": [
      "Correct\n"
     ]
    }
   ],
   "source": [
    "def user_confirmation(user_input):\n",
    "    password = \"gizem\"\n",
    "    if user_input == password:\n",
    "        return \"correct\"\n",
    "    else:\n",
    "        return \"wrong\"\n",
    "    \n",
    "\n",
    "user_input = input(\"Give me the password: \")\n",
    "if user_confirmation(user_input) == \"correct\":\n",
    "    print(\"Correct\")\n",
    "else:\n",
    "    print(\"No acces\")\n"
   ]
  },
  {
   "cell_type": "code",
   "execution_count": null,
   "id": "e923b379",
   "metadata": {},
   "outputs": [],
   "source": [
    "a = 5"
   ]
  }
 ],
 "metadata": {
  "kernelspec": {
   "display_name": "Python 3",
   "language": "python",
   "name": "python3"
  },
  "language_info": {
   "codemirror_mode": {
    "name": "ipython",
    "version": 3
   },
   "file_extension": ".py",
   "mimetype": "text/x-python",
   "name": "python",
   "nbconvert_exporter": "python",
   "pygments_lexer": "ipython3",
   "version": "3.12.4"
  }
 },
 "nbformat": 4,
 "nbformat_minor": 5
}
